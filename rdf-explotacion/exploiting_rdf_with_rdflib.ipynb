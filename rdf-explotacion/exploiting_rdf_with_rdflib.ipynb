{
  "nbformat": 4,
  "nbformat_minor": 0,
  "metadata": {
    "colab": {
      "name": "exploiting-rdf-with-rdflib.ipynb",
      "provenance": [],
      "collapsed_sections": []
    },
    "kernelspec": {
      "name": "python3",
      "display_name": "Python 3"
    },
    "language_info": {
      "name": "python"
    }
  },
  "cells": [
    {
      "cell_type": "code",
      "metadata": {
        "id": "D07mUfs3MOhJ",
        "colab": {
          "base_uri": "https://localhost:8080/"
        },
        "outputId": "c9293e89-5804-470d-d202-4ce8cc7678a8"
      },
      "source": [
        "!pip install rdflib\n",
        "!pip install folium\n",
        "!pip install pyproj"
      ],
      "execution_count": 1,
      "outputs": [
        {
          "output_type": "stream",
          "name": "stdout",
          "text": [
            "Collecting rdflib\n",
            "  Downloading rdflib-6.0.2-py3-none-any.whl (407 kB)\n",
            "\u001b[K     |████████████████████████████████| 407 kB 7.6 MB/s \n",
            "\u001b[?25hCollecting isodate\n",
            "  Downloading isodate-0.6.0-py2.py3-none-any.whl (45 kB)\n",
            "\u001b[K     |████████████████████████████████| 45 kB 2.1 MB/s \n",
            "\u001b[?25hRequirement already satisfied: setuptools in /usr/local/lib/python3.7/dist-packages (from rdflib) (57.4.0)\n",
            "Requirement already satisfied: pyparsing in /usr/local/lib/python3.7/dist-packages (from rdflib) (2.4.7)\n",
            "Requirement already satisfied: six in /usr/local/lib/python3.7/dist-packages (from isodate->rdflib) (1.15.0)\n",
            "Installing collected packages: isodate, rdflib\n",
            "Successfully installed isodate-0.6.0 rdflib-6.0.2\n",
            "Requirement already satisfied: folium in /usr/local/lib/python3.7/dist-packages (0.8.3)\n",
            "Requirement already satisfied: jinja2 in /usr/local/lib/python3.7/dist-packages (from folium) (2.11.3)\n",
            "Requirement already satisfied: requests in /usr/local/lib/python3.7/dist-packages (from folium) (2.23.0)\n",
            "Requirement already satisfied: branca>=0.3.0 in /usr/local/lib/python3.7/dist-packages (from folium) (0.4.2)\n",
            "Requirement already satisfied: numpy in /usr/local/lib/python3.7/dist-packages (from folium) (1.19.5)\n",
            "Requirement already satisfied: six in /usr/local/lib/python3.7/dist-packages (from folium) (1.15.0)\n",
            "Requirement already satisfied: MarkupSafe>=0.23 in /usr/local/lib/python3.7/dist-packages (from jinja2->folium) (2.0.1)\n",
            "Requirement already satisfied: chardet<4,>=3.0.2 in /usr/local/lib/python3.7/dist-packages (from requests->folium) (3.0.4)\n",
            "Requirement already satisfied: certifi>=2017.4.17 in /usr/local/lib/python3.7/dist-packages (from requests->folium) (2021.5.30)\n",
            "Requirement already satisfied: urllib3!=1.25.0,!=1.25.1,<1.26,>=1.21.1 in /usr/local/lib/python3.7/dist-packages (from requests->folium) (1.24.3)\n",
            "Requirement already satisfied: idna<3,>=2.5 in /usr/local/lib/python3.7/dist-packages (from requests->folium) (2.10)\n",
            "Collecting pyproj\n",
            "  Downloading pyproj-3.2.1-cp37-cp37m-manylinux2010_x86_64.whl (6.3 MB)\n",
            "\u001b[K     |████████████████████████████████| 6.3 MB 7.3 MB/s \n",
            "\u001b[?25hRequirement already satisfied: certifi in /usr/local/lib/python3.7/dist-packages (from pyproj) (2021.5.30)\n",
            "Installing collected packages: pyproj\n",
            "Successfully installed pyproj-3.2.1\n"
          ]
        }
      ]
    },
    {
      "cell_type": "code",
      "metadata": {
        "id": "8Kh08nYhMphO",
        "colab": {
          "base_uri": "https://localhost:8080/"
        },
        "outputId": "16bb2f88-adb1-4e4d-ce1e-00ac01d39ec0"
      },
      "source": [
        "storage = \"https://raw.githubusercontent.com/opencitydata/guia-rdf-datosgob/main/rdf-explotacion/terrazas-madrid.nt\" #poner el enlace a tus datos en github (raw files)\n",
        "\n",
        "from rdflib import Graph, Namespace, Literal\n",
        "from rdflib.plugins.sparql import prepareQuery\n",
        "import folium\n",
        "from pyproj import Transformer\n",
        "\n",
        "g = Graph()\n",
        "\n",
        "g.parse(storage, format=\"ntriples\") #quizá esto tarde un poco si el archivo es muy grande"
      ],
      "execution_count": 2,
      "outputs": [
        {
          "output_type": "execute_result",
          "data": {
            "text/plain": [
              "<Graph identifier=Nc3841ddcc6094124a19a111033a8d810 (<class 'rdflib.graph.Graph'>)>"
            ]
          },
          "metadata": {},
          "execution_count": 2
        }
      ]
    },
    {
      "cell_type": "markdown",
      "metadata": {
        "id": "ZjIGX7hjMvzP"
      },
      "source": [
        "# Consulta 1: Listado de terrazas y sus horarios de lunes a viernes anualmente"
      ]
    },
    {
      "cell_type": "code",
      "metadata": {
        "id": "qgZceqjJfH8G"
      },
      "source": [
        "from rdflib import XSD\n",
        "\n",
        "ESCOM = Namespace(\"http://vocab.ciudadesabiertas.es/def/comercio/tejido-comercial/\") \n",
        "\n",
        "q1 = prepareQuery('''\n",
        "  SELECT \n",
        "    ?terraza ?horario\n",
        "\tWHERE { \n",
        "    ?terraza rdf:type escom:Terraza;\n",
        "          <http://schema.org/openingHours> ?horario .\n",
        "    \n",
        "    FILTER(regex(?horario, \"Anual Lun-Juev.*\", \"i\" ))\n",
        "  } \n",
        "  ''',\n",
        "  initNs = { \"escom\": ESCOM}\n",
        ")\n",
        "\n",
        "for r in g.query(q1):\n",
        "  print(r.terraza, r.horario)"
      ],
      "execution_count": null,
      "outputs": []
    },
    {
      "cell_type": "code",
      "metadata": {
        "id": "kyDCav6n2t6d"
      },
      "source": [
        ""
      ],
      "execution_count": null,
      "outputs": []
    },
    {
      "cell_type": "markdown",
      "metadata": {
        "id": "8fJojiXCZmFu"
      },
      "source": [
        "# Consulta 2: Listado de terrazas que tengan más de 15 mesas autorizadas"
      ]
    },
    {
      "cell_type": "code",
      "metadata": {
        "id": "PYwziYG5MvUU"
      },
      "source": [
        "from rdflib import XSD\n",
        "\n",
        "ESCOM = Namespace(\"http://vocab.ciudadesabiertas.es/def/comercio/tejido-comercial/\") \n",
        "\n",
        "q1 = prepareQuery('''\n",
        "  SELECT \n",
        "    ?terraza ?mesas\n",
        "\tWHERE { \n",
        "    ?terraza rdf:type escom:Terraza;\n",
        "          escom:numeroMesasAutorizadas ?mesas .\n",
        "    \n",
        "    FILTER(?mesas > \"15\"^^<http://www.w3.org/2001/XMLSchema#integer>)\n",
        "  } \n",
        "  ''',\n",
        "  initNs = { \"escom\": ESCOM}\n",
        ")\n",
        "\n",
        "for r in g.query(q1):\n",
        "  print(r.terraza, r.mesas)\n"
      ],
      "execution_count": null,
      "outputs": []
    },
    {
      "cell_type": "markdown",
      "metadata": {
        "id": "45hk8EOJ3X94"
      },
      "source": [
        "# Consulta 3: Listado de terrazas con actividad en el periodo anual"
      ]
    },
    {
      "cell_type": "code",
      "metadata": {
        "id": "yrg1QPBJ3dS2"
      },
      "source": [
        "from rdflib import XSD\n",
        "\n",
        "ESCOM = Namespace(\"http://vocab.ciudadesabiertas.es/def/comercio/tejido-comercial/\") \n",
        "q1 = prepareQuery('''\n",
        "  SELECT \n",
        "    ?terraza\n",
        "\tWHERE { \n",
        "    ?terraza rdf:type escom:Terraza;\n",
        "          escom:periodoFuncionamiento <http://vocab.linkeddata.es/datosabiertos/kos/comercio/periodo-funcionamiento/anual> .\n",
        "  } \n",
        "  ''',\n",
        "  initNs = { \"escom\": ESCOM}\n",
        ")\n",
        "\n",
        "for r in g.query(q1):\n",
        "  print(r.terraza)"
      ],
      "execution_count": null,
      "outputs": []
    },
    {
      "cell_type": "markdown",
      "metadata": {
        "id": "7BOc1mBBMZGx"
      },
      "source": [
        "# Ejemplo real: Dibujando puntos geográficos a partir de RDF"
      ]
    },
    {
      "cell_type": "code",
      "metadata": {
        "colab": {
          "base_uri": "https://localhost:8080/",
          "height": 1000
        },
        "id": "C3Vo2CmfMX2O",
        "outputId": "9426d271-dec9-4d78-d273-3369b3ee3893"
      },
      "source": [
        "ESCOM = Namespace(\"http://vocab.ciudadesabiertas.es/def/comercio/tejido-comercial/\") \n",
        "# Preparamos la consulta, dame las terrazas, su horario anual de lunes a jueves y la latitud y longitud de su LocalComercial asociado\n",
        "q1 = prepareQuery('''\n",
        "  SELECT \n",
        "    ?horario ?lat ?lon\n",
        "\tWHERE { \n",
        "    ?terraza rdf:type escom:Terraza .\n",
        "    ?terraza <http://schema.org/openingHours> ?horario .\n",
        "    ?terraza escom:perteneceA ?local .\n",
        "    ?local rdf:type escom:LocalComercial .\n",
        "    ?local <http://www.opengis.net/ont/geosparql#hasGeometry> ?point .\n",
        "    ?point rdf:type <http://www.opengis.net/ont/sf#Point> .\n",
        "    ?point <https://datos.ign.es/def/geo_core#xETRS89> ?lat .\n",
        "    ?point <https://datos.ign.es/def/geo_core#yETRS89> ?lon .\n",
        "    \n",
        "    FILTER(regex(?horario, \"Anual Lun-Juev.*\", \"i\" ))\n",
        "  } LIMIT 10\n",
        "  ''',\n",
        "  initNs = { \"escom\": ESCOM}\n",
        ")\n",
        "# inspeccionamos los datos que nos devuelve la consulta\n",
        "for r in g.query(q1):\n",
        "  print(r.lat, r.lon, r.horario)\n",
        "\n",
        "# debemos transformar el formato de los datos de lon de UTM a WGS 84\n",
        "transformer = Transformer.from_crs('epsg:25830','epsg:4326')\n",
        "mapa = folium.Map(location=[40.4167,  -3.70325])\n",
        "for r in g.query(q1):\n",
        "  x,y = transformer.transform(float((r.lat).replace(\",\",\".\")),float((r.lon).replace(\",\",\".\")))\n",
        "  horario = (r.horario).replace(\"Anual Lun-Juev \",\"\")\n",
        "  folium.Marker([x,y], popup=horario, tooltip=horario).add_to(mapa)\n",
        "\n",
        "mapa"
      ],
      "execution_count": 5,
      "outputs": [
        {
          "output_type": "stream",
          "name": "stdout",
          "text": [
            "443905,56 4471544,48 Anual Lun-Juev 10:00:00 - 00:00:00\n",
            "440777,59 4474441,52 Anual Lun-Juev 10:00:00 - 00:00:00\n",
            "441732,6 4478748,52 Anual Lun-Juev 10:00:00 - 00:00:00\n",
            "446935,57 4476568,45 Anual Lun-Juev 08:00:00 - 01:00:00\n",
            "439161,6 4475784,54 Anual Lun-Juev 10:00:00 - 00:00:00\n",
            "442577,58 4473167,5 Anual Lun-Juev 10:00:00 - 00:00:00\n",
            "440603,59 4473300,52 Anual Lun-Juev 10:00:00 - 23:00:00\n",
            "435267,59 4468465,56 Anual Lun-Juev 10:00:00 - 00:00:00\n",
            "443015,59 4477650,5 Anual Lun-Juev 10:00:00 - 00:00:00\n",
            "434793,63 4471955,57 Anual Lun-Juev 10:00:00 - 00:00:00\n"
          ]
        },
        {
          "output_type": "execute_result",
          "data": {
            "text/html": [
              "<div style=\"width:100%;\"><div style=\"position:relative;width:100%;height:0;padding-bottom:60%;\"><span style=\"color:#565656\">Make this Notebook Trusted to load map: File -> Trust Notebook</span><iframe src=\"about:blank\" style=\"position:absolute;width:100%;height:100%;left:0;top:0;border:none !important;\" data-html=%3C%21DOCTYPE%20html%3E%0A%3Chead%3E%20%20%20%20%0A%20%20%20%20%3Cmeta%20http-equiv%3D%22content-type%22%20content%3D%22text/html%3B%20charset%3DUTF-8%22%20/%3E%0A%20%20%20%20%3Cscript%3EL_PREFER_CANVAS%3Dfalse%3B%20L_NO_TOUCH%3Dfalse%3B%20L_DISABLE_3D%3Dfalse%3B%3C/script%3E%0A%20%20%20%20%3Cscript%20src%3D%22https%3A//cdn.jsdelivr.net/npm/leaflet%401.4.0/dist/leaflet.js%22%3E%3C/script%3E%0A%20%20%20%20%3Cscript%20src%3D%22https%3A//code.jquery.com/jquery-1.12.4.min.js%22%3E%3C/script%3E%0A%20%20%20%20%3Cscript%20src%3D%22https%3A//maxcdn.bootstrapcdn.com/bootstrap/3.2.0/js/bootstrap.min.js%22%3E%3C/script%3E%0A%20%20%20%20%3Cscript%20src%3D%22https%3A//cdnjs.cloudflare.com/ajax/libs/Leaflet.awesome-markers/2.0.2/leaflet.awesome-markers.js%22%3E%3C/script%3E%0A%20%20%20%20%3Clink%20rel%3D%22stylesheet%22%20href%3D%22https%3A//cdn.jsdelivr.net/npm/leaflet%401.4.0/dist/leaflet.css%22/%3E%0A%20%20%20%20%3Clink%20rel%3D%22stylesheet%22%20href%3D%22https%3A//maxcdn.bootstrapcdn.com/bootstrap/3.2.0/css/bootstrap.min.css%22/%3E%0A%20%20%20%20%3Clink%20rel%3D%22stylesheet%22%20href%3D%22https%3A//maxcdn.bootstrapcdn.com/bootstrap/3.2.0/css/bootstrap-theme.min.css%22/%3E%0A%20%20%20%20%3Clink%20rel%3D%22stylesheet%22%20href%3D%22https%3A//maxcdn.bootstrapcdn.com/font-awesome/4.6.3/css/font-awesome.min.css%22/%3E%0A%20%20%20%20%3Clink%20rel%3D%22stylesheet%22%20href%3D%22https%3A//cdnjs.cloudflare.com/ajax/libs/Leaflet.awesome-markers/2.0.2/leaflet.awesome-markers.css%22/%3E%0A%20%20%20%20%3Clink%20rel%3D%22stylesheet%22%20href%3D%22https%3A//rawcdn.githack.com/python-visualization/folium/master/folium/templates/leaflet.awesome.rotate.css%22/%3E%0A%20%20%20%20%3Cstyle%3Ehtml%2C%20body%20%7Bwidth%3A%20100%25%3Bheight%3A%20100%25%3Bmargin%3A%200%3Bpadding%3A%200%3B%7D%3C/style%3E%0A%20%20%20%20%3Cstyle%3E%23map%20%7Bposition%3Aabsolute%3Btop%3A0%3Bbottom%3A0%3Bright%3A0%3Bleft%3A0%3B%7D%3C/style%3E%0A%20%20%20%20%0A%20%20%20%20%3Cmeta%20name%3D%22viewport%22%20content%3D%22width%3Ddevice-width%2C%0A%20%20%20%20%20%20%20%20initial-scale%3D1.0%2C%20maximum-scale%3D1.0%2C%20user-scalable%3Dno%22%20/%3E%0A%20%20%20%20%3Cstyle%3E%23map_4019952e6ff9406ebe2bc1450b3709fb%20%7B%0A%20%20%20%20%20%20%20%20position%3A%20relative%3B%0A%20%20%20%20%20%20%20%20width%3A%20100.0%25%3B%0A%20%20%20%20%20%20%20%20height%3A%20100.0%25%3B%0A%20%20%20%20%20%20%20%20left%3A%200.0%25%3B%0A%20%20%20%20%20%20%20%20top%3A%200.0%25%3B%0A%20%20%20%20%20%20%20%20%7D%0A%20%20%20%20%3C/style%3E%0A%3C/head%3E%0A%3Cbody%3E%20%20%20%20%0A%20%20%20%20%0A%20%20%20%20%3Cdiv%20class%3D%22folium-map%22%20id%3D%22map_4019952e6ff9406ebe2bc1450b3709fb%22%20%3E%3C/div%3E%0A%3C/body%3E%0A%3Cscript%3E%20%20%20%20%0A%20%20%20%20%0A%20%20%20%20%0A%20%20%20%20%20%20%20%20var%20bounds%20%3D%20null%3B%0A%20%20%20%20%0A%0A%20%20%20%20var%20map_4019952e6ff9406ebe2bc1450b3709fb%20%3D%20L.map%28%0A%20%20%20%20%20%20%20%20%27map_4019952e6ff9406ebe2bc1450b3709fb%27%2C%20%7B%0A%20%20%20%20%20%20%20%20center%3A%20%5B40.4167%2C%20-3.70325%5D%2C%0A%20%20%20%20%20%20%20%20zoom%3A%2010%2C%0A%20%20%20%20%20%20%20%20maxBounds%3A%20bounds%2C%0A%20%20%20%20%20%20%20%20layers%3A%20%5B%5D%2C%0A%20%20%20%20%20%20%20%20worldCopyJump%3A%20false%2C%0A%20%20%20%20%20%20%20%20crs%3A%20L.CRS.EPSG3857%2C%0A%20%20%20%20%20%20%20%20zoomControl%3A%20true%2C%0A%20%20%20%20%20%20%20%20%7D%29%3B%0A%0A%0A%20%20%20%20%0A%20%20%20%20var%20tile_layer_3e1fff8e5b52470cb42f2ed931098888%20%3D%20L.tileLayer%28%0A%20%20%20%20%20%20%20%20%27https%3A//%7Bs%7D.tile.openstreetmap.org/%7Bz%7D/%7Bx%7D/%7By%7D.png%27%2C%0A%20%20%20%20%20%20%20%20%7B%0A%20%20%20%20%20%20%20%20%22attribution%22%3A%20null%2C%0A%20%20%20%20%20%20%20%20%22detectRetina%22%3A%20false%2C%0A%20%20%20%20%20%20%20%20%22maxNativeZoom%22%3A%2018%2C%0A%20%20%20%20%20%20%20%20%22maxZoom%22%3A%2018%2C%0A%20%20%20%20%20%20%20%20%22minZoom%22%3A%200%2C%0A%20%20%20%20%20%20%20%20%22noWrap%22%3A%20false%2C%0A%20%20%20%20%20%20%20%20%22opacity%22%3A%201%2C%0A%20%20%20%20%20%20%20%20%22subdomains%22%3A%20%22abc%22%2C%0A%20%20%20%20%20%20%20%20%22tms%22%3A%20false%0A%7D%29.addTo%28map_4019952e6ff9406ebe2bc1450b3709fb%29%3B%0A%20%20%20%20%0A%20%20%20%20%20%20%20%20var%20marker_1eed880a67344f61bc38bcb6c6eda97f%20%3D%20L.marker%28%0A%20%20%20%20%20%20%20%20%20%20%20%20%5B40.392612156637064%2C%20-3.6609522514341504%5D%2C%0A%20%20%20%20%20%20%20%20%20%20%20%20%7B%0A%20%20%20%20%20%20%20%20%20%20%20%20%20%20%20%20icon%3A%20new%20L.Icon.Default%28%29%2C%0A%20%20%20%20%20%20%20%20%20%20%20%20%20%20%20%20%7D%0A%20%20%20%20%20%20%20%20%20%20%20%20%29.addTo%28map_4019952e6ff9406ebe2bc1450b3709fb%29%3B%0A%20%20%20%20%20%20%20%20%0A%20%20%20%20%0A%20%20%20%20%20%20%20%20%20%20%20%20var%20popup_cefc98a6314d4524bfc24e4ab795c008%20%3D%20L.popup%28%7BmaxWidth%3A%20%27100%25%27%0A%20%20%20%20%20%20%20%20%20%20%20%20%0A%20%20%20%20%20%20%20%20%20%20%20%20%7D%29%3B%0A%0A%20%20%20%20%20%20%20%20%20%20%20%20%0A%20%20%20%20%20%20%20%20%20%20%20%20%20%20%20%20var%20html_91509cf8776e4c6a92786d4e50d1edcd%20%3D%20%24%28%60%3Cdiv%20id%3D%22html_91509cf8776e4c6a92786d4e50d1edcd%22%20style%3D%22width%3A%20100.0%25%3B%20height%3A%20100.0%25%3B%22%3E10%3A00%3A00%20-%2000%3A00%3A00%3C/div%3E%60%29%5B0%5D%3B%0A%20%20%20%20%20%20%20%20%20%20%20%20%20%20%20%20popup_cefc98a6314d4524bfc24e4ab795c008.setContent%28html_91509cf8776e4c6a92786d4e50d1edcd%29%3B%0A%20%20%20%20%20%20%20%20%20%20%20%20%0A%0A%20%20%20%20%20%20%20%20%20%20%20%20marker_1eed880a67344f61bc38bcb6c6eda97f.bindPopup%28popup_cefc98a6314d4524bfc24e4ab795c008%29%0A%20%20%20%20%20%20%20%20%20%20%20%20%3B%0A%0A%20%20%20%20%20%20%20%20%20%20%20%20%0A%20%20%20%20%20%20%20%20%0A%20%20%20%20%0A%20%20%20%20%20%20%20%20marker_1eed880a67344f61bc38bcb6c6eda97f.bindTooltip%28%0A%20%20%20%20%20%20%20%20%20%20%20%20%60%3Cdiv%3E%60%0A%20%20%20%20%20%20%20%20%20%20%20%20%2B%20%6010%3A00%3A00%20-%2000%3A00%3A00%60%20%2B%20%60%3C/div%3E%60%2C%0A%20%20%20%20%20%20%20%20%20%20%20%20%7B%22sticky%22%3A%20true%7D%0A%20%20%20%20%20%20%20%20%29%3B%0A%20%20%20%20%20%20%20%20%0A%20%20%20%20%0A%20%20%20%20%20%20%20%20var%20marker_3c6d5e83091b48c4a7f3cbdb7c89992f%20%3D%20L.marker%28%0A%20%20%20%20%20%20%20%20%20%20%20%20%5B40.4184936123814%2C%20-3.698075696792542%5D%2C%0A%20%20%20%20%20%20%20%20%20%20%20%20%7B%0A%20%20%20%20%20%20%20%20%20%20%20%20%20%20%20%20icon%3A%20new%20L.Icon.Default%28%29%2C%0A%20%20%20%20%20%20%20%20%20%20%20%20%20%20%20%20%7D%0A%20%20%20%20%20%20%20%20%20%20%20%20%29.addTo%28map_4019952e6ff9406ebe2bc1450b3709fb%29%3B%0A%20%20%20%20%20%20%20%20%0A%20%20%20%20%0A%20%20%20%20%20%20%20%20%20%20%20%20var%20popup_6ce6e1b597dd4389911c7c8881da9563%20%3D%20L.popup%28%7BmaxWidth%3A%20%27100%25%27%0A%20%20%20%20%20%20%20%20%20%20%20%20%0A%20%20%20%20%20%20%20%20%20%20%20%20%7D%29%3B%0A%0A%20%20%20%20%20%20%20%20%20%20%20%20%0A%20%20%20%20%20%20%20%20%20%20%20%20%20%20%20%20var%20html_eb28a80664ed4e588529ebff2d09091a%20%3D%20%24%28%60%3Cdiv%20id%3D%22html_eb28a80664ed4e588529ebff2d09091a%22%20style%3D%22width%3A%20100.0%25%3B%20height%3A%20100.0%25%3B%22%3E10%3A00%3A00%20-%2000%3A00%3A00%3C/div%3E%60%29%5B0%5D%3B%0A%20%20%20%20%20%20%20%20%20%20%20%20%20%20%20%20popup_6ce6e1b597dd4389911c7c8881da9563.setContent%28html_eb28a80664ed4e588529ebff2d09091a%29%3B%0A%20%20%20%20%20%20%20%20%20%20%20%20%0A%0A%20%20%20%20%20%20%20%20%20%20%20%20marker_3c6d5e83091b48c4a7f3cbdb7c89992f.bindPopup%28popup_6ce6e1b597dd4389911c7c8881da9563%29%0A%20%20%20%20%20%20%20%20%20%20%20%20%3B%0A%0A%20%20%20%20%20%20%20%20%20%20%20%20%0A%20%20%20%20%20%20%20%20%0A%20%20%20%20%0A%20%20%20%20%20%20%20%20marker_3c6d5e83091b48c4a7f3cbdb7c89992f.bindTooltip%28%0A%20%20%20%20%20%20%20%20%20%20%20%20%60%3Cdiv%3E%60%0A%20%20%20%20%20%20%20%20%20%20%20%20%2B%20%6010%3A00%3A00%20-%2000%3A00%3A00%60%20%2B%20%60%3C/div%3E%60%2C%0A%20%20%20%20%20%20%20%20%20%20%20%20%7B%22sticky%22%3A%20true%7D%0A%20%20%20%20%20%20%20%20%29%3B%0A%20%20%20%20%20%20%20%20%0A%20%20%20%20%0A%20%20%20%20%20%20%20%20var%20marker_22931672c31d4b839179cf5751aeb4f5%20%3D%20L.marker%28%0A%20%20%20%20%20%20%20%20%20%20%20%20%5B40.45736050916038%2C%20-3.6872143797132293%5D%2C%0A%20%20%20%20%20%20%20%20%20%20%20%20%7B%0A%20%20%20%20%20%20%20%20%20%20%20%20%20%20%20%20icon%3A%20new%20L.Icon.Default%28%29%2C%0A%20%20%20%20%20%20%20%20%20%20%20%20%20%20%20%20%7D%0A%20%20%20%20%20%20%20%20%20%20%20%20%29.addTo%28map_4019952e6ff9406ebe2bc1450b3709fb%29%3B%0A%20%20%20%20%20%20%20%20%0A%20%20%20%20%0A%20%20%20%20%20%20%20%20%20%20%20%20var%20popup_20dbfb6c65b946dab858818b270c77a7%20%3D%20L.popup%28%7BmaxWidth%3A%20%27100%25%27%0A%20%20%20%20%20%20%20%20%20%20%20%20%0A%20%20%20%20%20%20%20%20%20%20%20%20%7D%29%3B%0A%0A%20%20%20%20%20%20%20%20%20%20%20%20%0A%20%20%20%20%20%20%20%20%20%20%20%20%20%20%20%20var%20html_1bbd74b1393745b49450731a941783d6%20%3D%20%24%28%60%3Cdiv%20id%3D%22html_1bbd74b1393745b49450731a941783d6%22%20style%3D%22width%3A%20100.0%25%3B%20height%3A%20100.0%25%3B%22%3E10%3A00%3A00%20-%2000%3A00%3A00%3C/div%3E%60%29%5B0%5D%3B%0A%20%20%20%20%20%20%20%20%20%20%20%20%20%20%20%20popup_20dbfb6c65b946dab858818b270c77a7.setContent%28html_1bbd74b1393745b49450731a941783d6%29%3B%0A%20%20%20%20%20%20%20%20%20%20%20%20%0A%0A%20%20%20%20%20%20%20%20%20%20%20%20marker_22931672c31d4b839179cf5751aeb4f5.bindPopup%28popup_20dbfb6c65b946dab858818b270c77a7%29%0A%20%20%20%20%20%20%20%20%20%20%20%20%3B%0A%0A%20%20%20%20%20%20%20%20%20%20%20%20%0A%20%20%20%20%20%20%20%20%0A%20%20%20%20%0A%20%20%20%20%20%20%20%20marker_22931672c31d4b839179cf5751aeb4f5.bindTooltip%28%0A%20%20%20%20%20%20%20%20%20%20%20%20%60%3Cdiv%3E%60%0A%20%20%20%20%20%20%20%20%20%20%20%20%2B%20%6010%3A00%3A00%20-%2000%3A00%3A00%60%20%2B%20%60%3C/div%3E%60%2C%0A%20%20%20%20%20%20%20%20%20%20%20%20%7B%22sticky%22%3A%20true%7D%0A%20%20%20%20%20%20%20%20%29%3B%0A%20%20%20%20%20%20%20%20%0A%20%20%20%20%0A%20%20%20%20%20%20%20%20var%20marker_4b6d46ddfd674aff8b2eb6f59be027ac%20%3D%20L.marker%28%0A%20%20%20%20%20%20%20%20%20%20%20%20%5B40.438069724159995%2C%20-3.6256712684079018%5D%2C%0A%20%20%20%20%20%20%20%20%20%20%20%20%7B%0A%20%20%20%20%20%20%20%20%20%20%20%20%20%20%20%20icon%3A%20new%20L.Icon.Default%28%29%2C%0A%20%20%20%20%20%20%20%20%20%20%20%20%20%20%20%20%7D%0A%20%20%20%20%20%20%20%20%20%20%20%20%29.addTo%28map_4019952e6ff9406ebe2bc1450b3709fb%29%3B%0A%20%20%20%20%20%20%20%20%0A%20%20%20%20%0A%20%20%20%20%20%20%20%20%20%20%20%20var%20popup_a081a38a1fec4cea9accbf2c7262d953%20%3D%20L.popup%28%7BmaxWidth%3A%20%27100%25%27%0A%20%20%20%20%20%20%20%20%20%20%20%20%0A%20%20%20%20%20%20%20%20%20%20%20%20%7D%29%3B%0A%0A%20%20%20%20%20%20%20%20%20%20%20%20%0A%20%20%20%20%20%20%20%20%20%20%20%20%20%20%20%20var%20html_a4b5d30b9f174239b6987debaae5669e%20%3D%20%24%28%60%3Cdiv%20id%3D%22html_a4b5d30b9f174239b6987debaae5669e%22%20style%3D%22width%3A%20100.0%25%3B%20height%3A%20100.0%25%3B%22%3E08%3A00%3A00%20-%2001%3A00%3A00%3C/div%3E%60%29%5B0%5D%3B%0A%20%20%20%20%20%20%20%20%20%20%20%20%20%20%20%20popup_a081a38a1fec4cea9accbf2c7262d953.setContent%28html_a4b5d30b9f174239b6987debaae5669e%29%3B%0A%20%20%20%20%20%20%20%20%20%20%20%20%0A%0A%20%20%20%20%20%20%20%20%20%20%20%20marker_4b6d46ddfd674aff8b2eb6f59be027ac.bindPopup%28popup_a081a38a1fec4cea9accbf2c7262d953%29%0A%20%20%20%20%20%20%20%20%20%20%20%20%3B%0A%0A%20%20%20%20%20%20%20%20%20%20%20%20%0A%20%20%20%20%20%20%20%20%0A%20%20%20%20%0A%20%20%20%20%20%20%20%20marker_4b6d46ddfd674aff8b2eb6f59be027ac.bindTooltip%28%0A%20%20%20%20%20%20%20%20%20%20%20%20%60%3Cdiv%3E%60%0A%20%20%20%20%20%20%20%20%20%20%20%20%2B%20%6008%3A00%3A00%20-%2001%3A00%3A00%60%20%2B%20%60%3C/div%3E%60%2C%0A%20%20%20%20%20%20%20%20%20%20%20%20%7B%22sticky%22%3A%20true%7D%0A%20%20%20%20%20%20%20%20%29%3B%0A%20%20%20%20%20%20%20%20%0A%20%20%20%20%0A%20%20%20%20%20%20%20%20var%20marker_9c40ff8f1c294db99a1a8b3e83fc815b%20%3D%20L.marker%28%0A%20%20%20%20%20%20%20%20%20%20%20%20%5B40.43047554556544%2C%20-3.717251053827992%5D%2C%0A%20%20%20%20%20%20%20%20%20%20%20%20%7B%0A%20%20%20%20%20%20%20%20%20%20%20%20%20%20%20%20icon%3A%20new%20L.Icon.Default%28%29%2C%0A%20%20%20%20%20%20%20%20%20%20%20%20%20%20%20%20%7D%0A%20%20%20%20%20%20%20%20%20%20%20%20%29.addTo%28map_4019952e6ff9406ebe2bc1450b3709fb%29%3B%0A%20%20%20%20%20%20%20%20%0A%20%20%20%20%0A%20%20%20%20%20%20%20%20%20%20%20%20var%20popup_1edba4e4a531427d89645a41b8013c63%20%3D%20L.popup%28%7BmaxWidth%3A%20%27100%25%27%0A%20%20%20%20%20%20%20%20%20%20%20%20%0A%20%20%20%20%20%20%20%20%20%20%20%20%7D%29%3B%0A%0A%20%20%20%20%20%20%20%20%20%20%20%20%0A%20%20%20%20%20%20%20%20%20%20%20%20%20%20%20%20var%20html_caf9e5aba26a464e800e30d01bcded66%20%3D%20%24%28%60%3Cdiv%20id%3D%22html_caf9e5aba26a464e800e30d01bcded66%22%20style%3D%22width%3A%20100.0%25%3B%20height%3A%20100.0%25%3B%22%3E10%3A00%3A00%20-%2000%3A00%3A00%3C/div%3E%60%29%5B0%5D%3B%0A%20%20%20%20%20%20%20%20%20%20%20%20%20%20%20%20popup_1edba4e4a531427d89645a41b8013c63.setContent%28html_caf9e5aba26a464e800e30d01bcded66%29%3B%0A%20%20%20%20%20%20%20%20%20%20%20%20%0A%0A%20%20%20%20%20%20%20%20%20%20%20%20marker_9c40ff8f1c294db99a1a8b3e83fc815b.bindPopup%28popup_1edba4e4a531427d89645a41b8013c63%29%0A%20%20%20%20%20%20%20%20%20%20%20%20%3B%0A%0A%20%20%20%20%20%20%20%20%20%20%20%20%0A%20%20%20%20%20%20%20%20%0A%20%20%20%20%0A%20%20%20%20%20%20%20%20marker_9c40ff8f1c294db99a1a8b3e83fc815b.bindTooltip%28%0A%20%20%20%20%20%20%20%20%20%20%20%20%60%3Cdiv%3E%60%0A%20%20%20%20%20%20%20%20%20%20%20%20%2B%20%6010%3A00%3A00%20-%2000%3A00%3A00%60%20%2B%20%60%3C/div%3E%60%2C%0A%20%20%20%20%20%20%20%20%20%20%20%20%7B%22sticky%22%3A%20true%7D%0A%20%20%20%20%20%20%20%20%29%3B%0A%20%20%20%20%20%20%20%20%0A%20%20%20%20%0A%20%20%20%20%20%20%20%20var%20marker_f1798b6a25d4415c85aed09d933dbd0f%20%3D%20L.marker%28%0A%20%20%20%20%20%20%20%20%20%20%20%20%5B40.407142718988084%2C%20-3.6767450086168596%5D%2C%0A%20%20%20%20%20%20%20%20%20%20%20%20%7B%0A%20%20%20%20%20%20%20%20%20%20%20%20%20%20%20%20icon%3A%20new%20L.Icon.Default%28%29%2C%0A%20%20%20%20%20%20%20%20%20%20%20%20%20%20%20%20%7D%0A%20%20%20%20%20%20%20%20%20%20%20%20%29.addTo%28map_4019952e6ff9406ebe2bc1450b3709fb%29%3B%0A%20%20%20%20%20%20%20%20%0A%20%20%20%20%0A%20%20%20%20%20%20%20%20%20%20%20%20var%20popup_c793ff22394043459f225aabd5d40be1%20%3D%20L.popup%28%7BmaxWidth%3A%20%27100%25%27%0A%20%20%20%20%20%20%20%20%20%20%20%20%0A%20%20%20%20%20%20%20%20%20%20%20%20%7D%29%3B%0A%0A%20%20%20%20%20%20%20%20%20%20%20%20%0A%20%20%20%20%20%20%20%20%20%20%20%20%20%20%20%20var%20html_6ae945205e43490e9b3098625cb7f1db%20%3D%20%24%28%60%3Cdiv%20id%3D%22html_6ae945205e43490e9b3098625cb7f1db%22%20style%3D%22width%3A%20100.0%25%3B%20height%3A%20100.0%25%3B%22%3E10%3A00%3A00%20-%2000%3A00%3A00%3C/div%3E%60%29%5B0%5D%3B%0A%20%20%20%20%20%20%20%20%20%20%20%20%20%20%20%20popup_c793ff22394043459f225aabd5d40be1.setContent%28html_6ae945205e43490e9b3098625cb7f1db%29%3B%0A%20%20%20%20%20%20%20%20%20%20%20%20%0A%0A%20%20%20%20%20%20%20%20%20%20%20%20marker_f1798b6a25d4415c85aed09d933dbd0f.bindPopup%28popup_c793ff22394043459f225aabd5d40be1%29%0A%20%20%20%20%20%20%20%20%20%20%20%20%3B%0A%0A%20%20%20%20%20%20%20%20%20%20%20%20%0A%20%20%20%20%20%20%20%20%0A%20%20%20%20%0A%20%20%20%20%20%20%20%20marker_f1798b6a25d4415c85aed09d933dbd0f.bindTooltip%28%0A%20%20%20%20%20%20%20%20%20%20%20%20%60%3Cdiv%3E%60%0A%20%20%20%20%20%20%20%20%20%20%20%20%2B%20%6010%3A00%3A00%20-%2000%3A00%3A00%60%20%2B%20%60%3C/div%3E%60%2C%0A%20%20%20%20%20%20%20%20%20%20%20%20%7B%22sticky%22%3A%20true%7D%0A%20%20%20%20%20%20%20%20%29%3B%0A%20%20%20%20%20%20%20%20%0A%20%20%20%20%0A%20%20%20%20%20%20%20%20var%20marker_45fb4282dd634883951d221a7bdbe794%20%3D%20L.marker%28%0A%20%20%20%20%20%20%20%20%20%20%20%20%5B40.40820253152404%2C%20-3.7000200260715213%5D%2C%0A%20%20%20%20%20%20%20%20%20%20%20%20%7B%0A%20%20%20%20%20%20%20%20%20%20%20%20%20%20%20%20icon%3A%20new%20L.Icon.Default%28%29%2C%0A%20%20%20%20%20%20%20%20%20%20%20%20%20%20%20%20%7D%0A%20%20%20%20%20%20%20%20%20%20%20%20%29.addTo%28map_4019952e6ff9406ebe2bc1450b3709fb%29%3B%0A%20%20%20%20%20%20%20%20%0A%20%20%20%20%0A%20%20%20%20%20%20%20%20%20%20%20%20var%20popup_3d095d8067d94ac08ff56a0daeb8f7d6%20%3D%20L.popup%28%7BmaxWidth%3A%20%27100%25%27%0A%20%20%20%20%20%20%20%20%20%20%20%20%0A%20%20%20%20%20%20%20%20%20%20%20%20%7D%29%3B%0A%0A%20%20%20%20%20%20%20%20%20%20%20%20%0A%20%20%20%20%20%20%20%20%20%20%20%20%20%20%20%20var%20html_a80377b458a142a49b34150097f7dcbb%20%3D%20%24%28%60%3Cdiv%20id%3D%22html_a80377b458a142a49b34150097f7dcbb%22%20style%3D%22width%3A%20100.0%25%3B%20height%3A%20100.0%25%3B%22%3E10%3A00%3A00%20-%2023%3A00%3A00%3C/div%3E%60%29%5B0%5D%3B%0A%20%20%20%20%20%20%20%20%20%20%20%20%20%20%20%20popup_3d095d8067d94ac08ff56a0daeb8f7d6.setContent%28html_a80377b458a142a49b34150097f7dcbb%29%3B%0A%20%20%20%20%20%20%20%20%20%20%20%20%0A%0A%20%20%20%20%20%20%20%20%20%20%20%20marker_45fb4282dd634883951d221a7bdbe794.bindPopup%28popup_3d095d8067d94ac08ff56a0daeb8f7d6%29%0A%20%20%20%20%20%20%20%20%20%20%20%20%3B%0A%0A%20%20%20%20%20%20%20%20%20%20%20%20%0A%20%20%20%20%20%20%20%20%0A%20%20%20%20%0A%20%20%20%20%20%20%20%20marker_45fb4282dd634883951d221a7bdbe794.bindTooltip%28%0A%20%20%20%20%20%20%20%20%20%20%20%20%60%3Cdiv%3E%60%0A%20%20%20%20%20%20%20%20%20%20%20%20%2B%20%6010%3A00%3A00%20-%2023%3A00%3A00%60%20%2B%20%60%3C/div%3E%60%2C%0A%20%20%20%20%20%20%20%20%20%20%20%20%7B%22sticky%22%3A%20true%7D%0A%20%20%20%20%20%20%20%20%29%3B%0A%20%20%20%20%20%20%20%20%0A%20%20%20%20%0A%20%20%20%20%20%20%20%20var%20marker_e56d339bffee42b0a474d72a31c799af%20%3D%20L.marker%28%0A%20%20%20%20%20%20%20%20%20%20%20%20%5B40.36424945830791%2C%20-3.7624114340505947%5D%2C%0A%20%20%20%20%20%20%20%20%20%20%20%20%7B%0A%20%20%20%20%20%20%20%20%20%20%20%20%20%20%20%20icon%3A%20new%20L.Icon.Default%28%29%2C%0A%20%20%20%20%20%20%20%20%20%20%20%20%20%20%20%20%7D%0A%20%20%20%20%20%20%20%20%20%20%20%20%29.addTo%28map_4019952e6ff9406ebe2bc1450b3709fb%29%3B%0A%20%20%20%20%20%20%20%20%0A%20%20%20%20%0A%20%20%20%20%20%20%20%20%20%20%20%20var%20popup_0b79c6eb4b30415dbf66fc352f3a2877%20%3D%20L.popup%28%7BmaxWidth%3A%20%27100%25%27%0A%20%20%20%20%20%20%20%20%20%20%20%20%0A%20%20%20%20%20%20%20%20%20%20%20%20%7D%29%3B%0A%0A%20%20%20%20%20%20%20%20%20%20%20%20%0A%20%20%20%20%20%20%20%20%20%20%20%20%20%20%20%20var%20html_97c71021459840c683b7c35b3b1ad4c2%20%3D%20%24%28%60%3Cdiv%20id%3D%22html_97c71021459840c683b7c35b3b1ad4c2%22%20style%3D%22width%3A%20100.0%25%3B%20height%3A%20100.0%25%3B%22%3E10%3A00%3A00%20-%2000%3A00%3A00%3C/div%3E%60%29%5B0%5D%3B%0A%20%20%20%20%20%20%20%20%20%20%20%20%20%20%20%20popup_0b79c6eb4b30415dbf66fc352f3a2877.setContent%28html_97c71021459840c683b7c35b3b1ad4c2%29%3B%0A%20%20%20%20%20%20%20%20%20%20%20%20%0A%0A%20%20%20%20%20%20%20%20%20%20%20%20marker_e56d339bffee42b0a474d72a31c799af.bindPopup%28popup_0b79c6eb4b30415dbf66fc352f3a2877%29%0A%20%20%20%20%20%20%20%20%20%20%20%20%3B%0A%0A%20%20%20%20%20%20%20%20%20%20%20%20%0A%20%20%20%20%20%20%20%20%0A%20%20%20%20%0A%20%20%20%20%20%20%20%20marker_e56d339bffee42b0a474d72a31c799af.bindTooltip%28%0A%20%20%20%20%20%20%20%20%20%20%20%20%60%3Cdiv%3E%60%0A%20%20%20%20%20%20%20%20%20%20%20%20%2B%20%6010%3A00%3A00%20-%2000%3A00%3A00%60%20%2B%20%60%3C/div%3E%60%2C%0A%20%20%20%20%20%20%20%20%20%20%20%20%7B%22sticky%22%3A%20true%7D%0A%20%20%20%20%20%20%20%20%29%3B%0A%20%20%20%20%20%20%20%20%0A%20%20%20%20%0A%20%20%20%20%20%20%20%20var%20marker_75f2ecbfbeff4458a5e1ffb1156cd2fd%20%3D%20L.marker%28%0A%20%20%20%20%20%20%20%20%20%20%20%20%5B40.44755798874384%2C%20-3.671985060126426%5D%2C%0A%20%20%20%20%20%20%20%20%20%20%20%20%7B%0A%20%20%20%20%20%20%20%20%20%20%20%20%20%20%20%20icon%3A%20new%20L.Icon.Default%28%29%2C%0A%20%20%20%20%20%20%20%20%20%20%20%20%20%20%20%20%7D%0A%20%20%20%20%20%20%20%20%20%20%20%20%29.addTo%28map_4019952e6ff9406ebe2bc1450b3709fb%29%3B%0A%20%20%20%20%20%20%20%20%0A%20%20%20%20%0A%20%20%20%20%20%20%20%20%20%20%20%20var%20popup_b471150050034a3da958bb9c2444dc50%20%3D%20L.popup%28%7BmaxWidth%3A%20%27100%25%27%0A%20%20%20%20%20%20%20%20%20%20%20%20%0A%20%20%20%20%20%20%20%20%20%20%20%20%7D%29%3B%0A%0A%20%20%20%20%20%20%20%20%20%20%20%20%0A%20%20%20%20%20%20%20%20%20%20%20%20%20%20%20%20var%20html_4a1eb33434b340419725e48c9b622cff%20%3D%20%24%28%60%3Cdiv%20id%3D%22html_4a1eb33434b340419725e48c9b622cff%22%20style%3D%22width%3A%20100.0%25%3B%20height%3A%20100.0%25%3B%22%3E10%3A00%3A00%20-%2000%3A00%3A00%3C/div%3E%60%29%5B0%5D%3B%0A%20%20%20%20%20%20%20%20%20%20%20%20%20%20%20%20popup_b471150050034a3da958bb9c2444dc50.setContent%28html_4a1eb33434b340419725e48c9b622cff%29%3B%0A%20%20%20%20%20%20%20%20%20%20%20%20%0A%0A%20%20%20%20%20%20%20%20%20%20%20%20marker_75f2ecbfbeff4458a5e1ffb1156cd2fd.bindPopup%28popup_b471150050034a3da958bb9c2444dc50%29%0A%20%20%20%20%20%20%20%20%20%20%20%20%3B%0A%0A%20%20%20%20%20%20%20%20%20%20%20%20%0A%20%20%20%20%20%20%20%20%0A%20%20%20%20%0A%20%20%20%20%20%20%20%20marker_75f2ecbfbeff4458a5e1ffb1156cd2fd.bindTooltip%28%0A%20%20%20%20%20%20%20%20%20%20%20%20%60%3Cdiv%3E%60%0A%20%20%20%20%20%20%20%20%20%20%20%20%2B%20%6010%3A00%3A00%20-%2000%3A00%3A00%60%20%2B%20%60%3C/div%3E%60%2C%0A%20%20%20%20%20%20%20%20%20%20%20%20%7B%22sticky%22%3A%20true%7D%0A%20%20%20%20%20%20%20%20%29%3B%0A%20%20%20%20%20%20%20%20%0A%20%20%20%20%0A%20%20%20%20%20%20%20%20var%20marker_895aa28ddf0846708279bf48d355249f%20%3D%20L.marker%28%0A%20%20%20%20%20%20%20%20%20%20%20%20%5B40.39565192608188%2C%20-3.768350316308748%5D%2C%0A%20%20%20%20%20%20%20%20%20%20%20%20%7B%0A%20%20%20%20%20%20%20%20%20%20%20%20%20%20%20%20icon%3A%20new%20L.Icon.Default%28%29%2C%0A%20%20%20%20%20%20%20%20%20%20%20%20%20%20%20%20%7D%0A%20%20%20%20%20%20%20%20%20%20%20%20%29.addTo%28map_4019952e6ff9406ebe2bc1450b3709fb%29%3B%0A%20%20%20%20%20%20%20%20%0A%20%20%20%20%0A%20%20%20%20%20%20%20%20%20%20%20%20var%20popup_9c47c89dad4a4341bbe3fb599a9f3ce5%20%3D%20L.popup%28%7BmaxWidth%3A%20%27100%25%27%0A%20%20%20%20%20%20%20%20%20%20%20%20%0A%20%20%20%20%20%20%20%20%20%20%20%20%7D%29%3B%0A%0A%20%20%20%20%20%20%20%20%20%20%20%20%0A%20%20%20%20%20%20%20%20%20%20%20%20%20%20%20%20var%20html_05ba781c149c4cfe8c970a458cb848e7%20%3D%20%24%28%60%3Cdiv%20id%3D%22html_05ba781c149c4cfe8c970a458cb848e7%22%20style%3D%22width%3A%20100.0%25%3B%20height%3A%20100.0%25%3B%22%3E10%3A00%3A00%20-%2000%3A00%3A00%3C/div%3E%60%29%5B0%5D%3B%0A%20%20%20%20%20%20%20%20%20%20%20%20%20%20%20%20popup_9c47c89dad4a4341bbe3fb599a9f3ce5.setContent%28html_05ba781c149c4cfe8c970a458cb848e7%29%3B%0A%20%20%20%20%20%20%20%20%20%20%20%20%0A%0A%20%20%20%20%20%20%20%20%20%20%20%20marker_895aa28ddf0846708279bf48d355249f.bindPopup%28popup_9c47c89dad4a4341bbe3fb599a9f3ce5%29%0A%20%20%20%20%20%20%20%20%20%20%20%20%3B%0A%0A%20%20%20%20%20%20%20%20%20%20%20%20%0A%20%20%20%20%20%20%20%20%0A%20%20%20%20%0A%20%20%20%20%20%20%20%20marker_895aa28ddf0846708279bf48d355249f.bindTooltip%28%0A%20%20%20%20%20%20%20%20%20%20%20%20%60%3Cdiv%3E%60%0A%20%20%20%20%20%20%20%20%20%20%20%20%2B%20%6010%3A00%3A00%20-%2000%3A00%3A00%60%20%2B%20%60%3C/div%3E%60%2C%0A%20%20%20%20%20%20%20%20%20%20%20%20%7B%22sticky%22%3A%20true%7D%0A%20%20%20%20%20%20%20%20%29%3B%0A%20%20%20%20%20%20%20%20%0A%3C/script%3E onload=\"this.contentDocument.open();this.contentDocument.write(    decodeURIComponent(this.getAttribute('data-html')));this.contentDocument.close();\" allowfullscreen webkitallowfullscreen mozallowfullscreen></iframe></div></div>"
            ],
            "text/plain": [
              "<folium.folium.Map at 0x7fb13153ae10>"
            ]
          },
          "metadata": {},
          "execution_count": 5
        }
      ]
    },
    {
      "cell_type": "code",
      "metadata": {
        "id": "QC2RQEl-Mt9e"
      },
      "source": [
        ""
      ],
      "execution_count": null,
      "outputs": []
    }
  ]
}