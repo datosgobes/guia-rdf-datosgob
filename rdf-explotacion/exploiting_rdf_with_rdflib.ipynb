{
  "nbformat": 4,
  "nbformat_minor": 0,
  "metadata": {
    "colab": {
      "name": "exploiting-rdf-with-rdflib.ipynb",
      "provenance": [],
      "collapsed_sections": []
    },
    "kernelspec": {
      "name": "python3",
      "display_name": "Python 3"
    },
    "language_info": {
      "name": "python"
    }
  },
  "cells": [
    {
      "cell_type": "code",
      "metadata": {
        "id": "D07mUfs3MOhJ"
      },
      "source": [
        "!pip install rdflib"
      ],
      "execution_count": null,
      "outputs": []
    },
    {
      "cell_type": "code",
      "metadata": {
        "id": "8Kh08nYhMphO"
      },
      "source": [
        "storage = \"https://raw.githubusercontent.com/opencitydata/guia-rdf-datosgob/main/rdf-explotacion/terrazas-madrid.nt\" #poner el enlace a tus datos en github (raw files)\n",
        "\n",
        "from rdflib import Graph, Namespace, Literal\n",
        "from rdflib.plugins.sparql import prepareQuery\n",
        "g = Graph()\n",
        "\n",
        "g.parse(storage, format=\"ntriples\") #quizá esto tarde un poco si el archivo es muy grande"
      ],
      "execution_count": null,
      "outputs": []
    },
    {
      "cell_type": "markdown",
      "metadata": {
        "id": "ZjIGX7hjMvzP"
      },
      "source": [
        "# Consulta 1: Listado de terrazas y sus horarios de lunes a viernes anualmente"
      ]
    },
    {
      "cell_type": "code",
      "metadata": {
        "id": "qgZceqjJfH8G"
      },
      "source": [
        "from rdflib import XSD\n",
        "\n",
        "ESCOM = Namespace(\"http://vocab.ciudadesabiertas.es/def/comercio/tejido-comercial/\") # cambiar a los namespaces que queramos nosotros\n",
        "\n",
        "q1 = prepareQuery('''\n",
        "  SELECT \n",
        "    ?terraza ?horario\n",
        "\tWHERE { \n",
        "    ?terraza rdf:type escom:Terraza;\n",
        "          <http://schema.org/openingHours> ?horario .\n",
        "    \n",
        "    FILTER(regex(?horario, \"Anual Lun-Juev.*\", \"i\" ))\n",
        "  } \n",
        "  ''',\n",
        "  initNs = { \"escom\": ESCOM}\n",
        ")\n",
        "\n",
        "for r in g.query(q1):\n",
        "  print(r.terraza, r.horario)"
      ],
      "execution_count": null,
      "outputs": []
    },
    {
      "cell_type": "code",
      "metadata": {
        "id": "kyDCav6n2t6d"
      },
      "source": [
        ""
      ],
      "execution_count": null,
      "outputs": []
    },
    {
      "cell_type": "markdown",
      "metadata": {
        "id": "8fJojiXCZmFu"
      },
      "source": [
        "# Consulta 2: Listado de terrazas que tengan más de 15 mesas autorizadas"
      ]
    },
    {
      "cell_type": "code",
      "metadata": {
        "id": "PYwziYG5MvUU"
      },
      "source": [
        "from rdflib import XSD\n",
        "\n",
        "ESCOM = Namespace(\"http://vocab.ciudadesabiertas.es/def/comercio/tejido-comercial/\") # cambiar a los namespaces que queramos nosotros\n",
        "\n",
        "q1 = prepareQuery('''\n",
        "  SELECT \n",
        "    ?terraza ?mesas\n",
        "\tWHERE { \n",
        "    ?terraza rdf:type escom:Terraza;\n",
        "          escom:numeroMesasAutorizadas ?mesas .\n",
        "    \n",
        "    FILTER(?mesas > \"15\"^^<http://www.w3.org/2001/XMLSchema#integer>)\n",
        "  } \n",
        "  ''',\n",
        "  initNs = { \"escom\": ESCOM}\n",
        ")\n",
        "\n",
        "for r in g.query(q1):\n",
        "  print(r.terraza, r.mesas)\n"
      ],
      "execution_count": null,
      "outputs": []
    },
    {
      "cell_type": "markdown",
      "metadata": {
        "id": "45hk8EOJ3X94"
      },
      "source": [
        "# Consulta 3: Listado de terrazas con actividad en el periodo anual"
      ]
    },
    {
      "cell_type": "code",
      "metadata": {
        "id": "yrg1QPBJ3dS2"
      },
      "source": [
        "from rdflib import XSD\n",
        "\n",
        "ESCOM = Namespace(\"http://vocab.ciudadesabiertas.es/def/comercio/tejido-comercial/\") # cambiar a los namespaces que queramos nosotros\n",
        "\n",
        "q1 = prepareQuery('''\n",
        "  SELECT \n",
        "    ?terraza\n",
        "\tWHERE { \n",
        "    ?terraza rdf:type escom:Terraza;\n",
        "          escom:periodoFuncionamiento <http://vocab.linkeddata.es/datosabiertos/kos/comercio/periodo-funcionamiento/anual> .\n",
        "  } \n",
        "  ''',\n",
        "  initNs = { \"escom\": ESCOM}\n",
        ")\n",
        "\n",
        "for r in g.query(q1):\n",
        "  print(r.terraza)"
      ],
      "execution_count": null,
      "outputs": []
    }
  ]
}